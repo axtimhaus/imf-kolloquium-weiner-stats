{
 "cells": [
  {
   "cell_type": "markdown",
   "id": "3d92b3dc-c81a-4a23-9f07-1732377198f1",
   "metadata": {
    "slideshow": {
     "slide_type": "slide"
    },
    "tags": []
   },
   "source": [
    "# Statistische Methoden für Umformtechniker\n",
    "\n",
    "------------\n",
    "\n",
    "Max Weiner\n",
    "\n",
    "IMF-Kolloquium, 2022-11-01"
   ]
  },
  {
   "cell_type": "markdown",
   "id": "7514f1d8-185f-4f41-accf-62596b708ce8",
   "metadata": {
    "slideshow": {
     "slide_type": "slide"
    },
    "tags": []
   },
   "source": [
    "## Inhalt\n",
    "\n",
    "1. Motivation\n",
    "2. Werkzeuge\n",
    "3. Histogramme, Kennwerte, Verteilungen\n",
    "4. Regression\n",
    "5. Zusammenfassung"
   ]
  },
  {
   "cell_type": "markdown",
   "id": "6ca5e998-8cf7-4fcf-9f5c-68b6f21df6d8",
   "metadata": {
    "slideshow": {
     "slide_type": "slide"
    },
    "tags": []
   },
   "source": [
    "## Motivation\n",
    "\n",
    "- schlechte/unpassende Ausbildung im Studium\n",
    "- vebreitete Abneigung gegen das Thema\n",
    "- Unwissenheit gefährlich\n",
    "- aber: gewisse Grundkenntnisse im Ingenieursalltag äußerst nützlich"
   ]
  },
  {
   "cell_type": "markdown",
   "id": "ef08ee9d-11f7-4001-969f-9e1b1065fceb",
   "metadata": {
    "slideshow": {
     "slide_type": "slide"
    },
    "tags": []
   },
   "source": [
    "## Werkzeuge\n",
    "\n",
    "1. **kein** Excel\n",
    "2. Python\n",
    "3. `numpy` - Vektoren, Matrizen, Listen\n",
    "4. `scipy` - Interpolation, Optimierung, ...\n",
    "5. `pandas` - Statistik\n",
    "6. `matplotlib` - Plots"
   ]
  },
  {
   "cell_type": "markdown",
   "id": "10c01258-7a8f-4425-b949-cd94189f9f21",
   "metadata": {
    "slideshow": {
     "slide_type": "slide"
    },
    "tags": []
   },
   "source": [
    "## Histogramme, Kennwerte, Verteilungen"
   ]
  },
  {
   "cell_type": "markdown",
   "id": "c4bfeeba-1d1e-4853-93ba-7f79c4416661",
   "metadata": {
    "slideshow": {
     "slide_type": "slide"
    },
    "tags": []
   },
   "source": [
    "### Laden von Daten mit `pandas`\n",
    "\n",
    "`pandas` enthält viele Funktionen zum Einlesen gängiger Datenformate, z.B. CSV"
   ]
  },
  {
   "cell_type": "code",
   "execution_count": 1,
   "id": "3d712797-b5c0-4b7e-b525-f56754344fe9",
   "metadata": {
    "slideshow": {
     "slide_type": "fragment"
    },
    "tags": []
   },
   "outputs": [
    {
     "data": {
      "text/html": [
       "<div>\n",
       "<style scoped>\n",
       "    .dataframe tbody tr th:only-of-type {\n",
       "        vertical-align: middle;\n",
       "    }\n",
       "\n",
       "    .dataframe tbody tr th {\n",
       "        vertical-align: top;\n",
       "    }\n",
       "\n",
       "    .dataframe thead th {\n",
       "        text-align: right;\n",
       "    }\n",
       "</style>\n",
       "<table border=\"1\" class=\"dataframe\">\n",
       "  <thead>\n",
       "    <tr style=\"text-align: right;\">\n",
       "      <th></th>\n",
       "      <th>duration</th>\n",
       "    </tr>\n",
       "  </thead>\n",
       "  <tbody>\n",
       "    <tr>\n",
       "      <th>0</th>\n",
       "      <td>5.955</td>\n",
       "    </tr>\n",
       "    <tr>\n",
       "      <th>1</th>\n",
       "      <td>4.509</td>\n",
       "    </tr>\n",
       "    <tr>\n",
       "      <th>2</th>\n",
       "      <td>5.556</td>\n",
       "    </tr>\n",
       "    <tr>\n",
       "      <th>3</th>\n",
       "      <td>5.552</td>\n",
       "    </tr>\n",
       "    <tr>\n",
       "      <th>4</th>\n",
       "      <td>4.636</td>\n",
       "    </tr>\n",
       "    <tr>\n",
       "      <th>...</th>\n",
       "      <td>...</td>\n",
       "    </tr>\n",
       "    <tr>\n",
       "      <th>77</th>\n",
       "      <td>4.661</td>\n",
       "    </tr>\n",
       "    <tr>\n",
       "      <th>78</th>\n",
       "      <td>4.238</td>\n",
       "    </tr>\n",
       "    <tr>\n",
       "      <th>79</th>\n",
       "      <td>5.211</td>\n",
       "    </tr>\n",
       "    <tr>\n",
       "      <th>80</th>\n",
       "      <td>5.495</td>\n",
       "    </tr>\n",
       "    <tr>\n",
       "      <th>81</th>\n",
       "      <td>5.279</td>\n",
       "    </tr>\n",
       "  </tbody>\n",
       "</table>\n",
       "<p>82 rows × 1 columns</p>\n",
       "</div>"
      ],
      "text/plain": [
       "    duration\n",
       "0      5.955\n",
       "1      4.509\n",
       "2      5.556\n",
       "3      5.552\n",
       "4      4.636\n",
       "..       ...\n",
       "77     4.661\n",
       "78     4.238\n",
       "79     5.211\n",
       "80     5.495\n",
       "81     5.279\n",
       "\n",
       "[82 rows x 1 columns]"
      ]
     },
     "execution_count": 1,
     "metadata": {},
     "output_type": "execute_result"
    }
   ],
   "source": [
    "import pandas as pd\n",
    "\n",
    "data = pd.read_csv(\"pauses.csv\", header=0)\n",
    "data"
   ]
  },
  {
   "cell_type": "code",
   "execution_count": 2,
   "id": "6c16234f-2737-404f-a2c9-a8e35a683e9e",
   "metadata": {
    "slideshow": {
     "slide_type": "fragment"
    },
    "tags": []
   },
   "outputs": [],
   "source": [
    "series = data[\"duration\"] # Auswahl einer Spalte"
   ]
  },
  {
   "cell_type": "markdown",
   "id": "790a1fba-8fb0-49f0-87fb-1bad9c17230f",
   "metadata": {
    "slideshow": {
     "slide_type": "slide"
    },
    "tags": []
   },
   "source": [
    "### Plot eines Histogramms mit `matplotlib`"
   ]
  },
  {
   "cell_type": "code",
   "execution_count": 3,
   "id": "cd87620c-2139-4824-963c-baa8ce38bd7b",
   "metadata": {
    "slideshow": {
     "slide_type": "fragment"
    },
    "tags": []
   },
   "outputs": [
    {
     "data": {
      "image/png": "[encoded data removed]",
      "text/plain": [
       "<Figure size 640x480 with 1 Axes>"
      ]
     },
     "metadata": {},
     "output_type": "display_data"
    }
   ],
   "source": [
    "import matplotlib.pyplot as plt\n",
    "\n",
    "plt.hist(series, bins=20)\n",
    "plt.show()"
   ]
  },
  {
   "cell_type": "markdown",
   "id": "b199df0c-431c-4b95-9dbc-dc81fc9642a4",
   "metadata": {
    "slideshow": {
     "slide_type": "slide"
    },
    "tags": []
   },
   "source": [
    "### Berechnung von Kennwerten der Datenreihe"
   ]
  },
  {
   "cell_type": "code",
   "execution_count": 4,
   "id": "0e29d501-af61-4af1-abe9-e6c923a3824f",
   "metadata": {
    "slideshow": {
     "slide_type": "fragment"
    },
    "tags": []
   },
   "outputs": [
    {
     "data": {
      "text/plain": [
       "6.505670731707317"
      ]
     },
     "execution_count": 4,
     "metadata": {},
     "output_type": "execute_result"
    }
   ],
   "source": [
    "series.mean() # Mittelwert"
   ]
  },
  {
   "cell_type": "code",
   "execution_count": 5,
   "id": "6f32e792-8283-4175-b5f6-659576c597b9",
   "metadata": {
    "slideshow": {
     "slide_type": "fragment"
    },
    "tags": []
   },
   "outputs": [
    {
     "data": {
      "text/plain": [
       "3.310100815498286"
      ]
     },
     "execution_count": 5,
     "metadata": {},
     "output_type": "execute_result"
    }
   ],
   "source": [
    "series.std() # Standardabweichung"
   ]
  },
  {
   "cell_type": "code",
   "execution_count": 6,
   "id": "8c101b32-30dd-42ec-b096-6e6c7600177f",
   "metadata": {
    "slideshow": {
     "slide_type": "fragment"
    },
    "tags": []
   },
   "outputs": [
    {
     "data": {
      "text/plain": [
       "2.8879467395305483"
      ]
     },
     "execution_count": 6,
     "metadata": {},
     "output_type": "execute_result"
    }
   ],
   "source": [
    "series.skew() # Schiefe"
   ]
  },
  {
   "cell_type": "markdown",
   "id": "b0b475c5-bf83-49b3-897b-92dce13332d4",
   "metadata": {
    "slideshow": {
     "slide_type": "slide"
    },
    "tags": []
   },
   "source": [
    "### Modellierung der Daten durch eine Normalverteilung\n",
    "\n",
    "- Normalverteilungen sind der am weitesten verbreitete Ansatz zur Beschreibung von Daten\n",
    "- In Natur und Technik treten häufig annähernd normalverteilte Daten auf"
   ]
  },
  {
   "cell_type": "code",
   "execution_count": 7,
   "id": "aec5a6bf-697a-485f-b9e5-272670ce98d5",
   "metadata": {
    "slideshow": {
     "slide_type": "fragment"
    },
    "tags": []
   },
   "outputs": [],
   "source": [
    "from scipy import stats\n",
    "\n",
    "norm = stats.norm(loc=series.mean(), scale=series.std())"
   ]
  },
  {
   "cell_type": "code",
   "execution_count": 8,
   "id": "d84f04d2-7e91-4db0-a950-5445cbd421be",
   "metadata": {
    "slideshow": {
     "slide_type": "slide"
    },
    "tags": []
   },
   "outputs": [
    {
     "data": {
      "image/png": "[encoded data removed]",
      "text/plain": [
       "<Figure size 640x480 with 1 Axes>"
      ]
     },
     "metadata": {},
     "output_type": "display_data"
    }
   ],
   "source": [
    "import numpy as np\n",
    "\n",
    "x = np.linspace(0, series.max(), 50)\n",
    "plt.hist(series, bins=20, density=True, label=\"Daten\")\n",
    "plt.plot(x, norm.pdf(x), label = \"Normalverteilung\")\n",
    "plt.legend(); plt.show()"
   ]
  },
  {
   "cell_type": "markdown",
   "id": "561668c6-c309-4e2b-90f0-4aa839e1d714",
   "metadata": {
    "slideshow": {
     "slide_type": "slide"
    },
    "tags": []
   },
   "source": [
    "### Passt die Normalverteilung auf meine Daten?\n",
    "\n",
    "- in Statistikvorlesungen werden häufig Normalitätstests gelehrt\n",
    "    \n",
    "> Normalitätstest haben zwei mögliche Aussagen: 1) ich habe zu wenig Daten 2) meine Daten sind nicht Normalverteilt. *Allan Downey*\n",
    "\n",
    "- Frage ist **nicht**: Sind meine Daten normalverteilt?\n",
    "- **Sondern**: Ist die Normalverteilung eine ausreichende Näherung an meine Daten?\n",
    "\n",
    "$\\rightarrow$ genaue Aussagen schwierig, aber einfache Daumenregeln!"
   ]
  },
  {
   "cell_type": "code",
   "execution_count": 9,
   "id": "891a655a-de80-4e2a-b37d-7503631ec9d0",
   "metadata": {
    "slideshow": {
     "slide_type": "slide"
    },
    "tags": []
   },
   "outputs": [
    {
     "data": {
      "image/png": "[encoded data removed]",
      "text/plain": [
       "<Figure size 640x480 with 1 Axes>"
      ]
     },
     "metadata": {},
     "output_type": "display_data"
    }
   ],
   "source": [
    "plt.hist(series, bins=20, cumulative=True, density=True, label=\"Daten\")\n",
    "plt.plot(x, norm.cdf(x), label=\"Normalverteilung\")\n",
    "plt.show()"
   ]
  },
  {
   "cell_type": "markdown",
   "id": "f1aca3ca-c55c-4c8c-9ca5-9b5a8449d741",
   "metadata": {
    "slideshow": {
     "slide_type": "slide"
    },
    "tags": []
   },
   "source": [
    "### Exponentialverteilung\n",
    "\n",
    "Zerfallsprozesse, Lebensdauern.\n",
    "\n",
    "### Gamma-Verteilung\n",
    "\n",
    "Verallgemeinerte Exponentialverteilung.\n",
    "\n",
    "$$ k = \\frac{\\mu^2}{\\sigma^2} \\quad \\theta = \\frac{\\sigma^2}{\\mu} $$\n",
    "\n",
    "### Lognormalverteilung\n",
    "\n",
    "Für Daten, deren Logarithmus normalverteilt ist.\n",
    "\n",
    "### Beta-Verteilung\n",
    "\n",
    "Für Daten mit Definitionsbereich $[0, 1]$ oder darauf skalierbarem.\n",
    "\n",
    "$$ \\alpha = \\mu \\left[ \\frac{\\mu (1 - \\mu)}{\\sigma^2} - 1 \\right] \\quad \\beta = (1-\\mu) \\left[ \\frac{\\mu (1 - \\mu)}{\\sigma^2} - 1 \\right] $$"
   ]
  },
  {
   "cell_type": "code",
   "execution_count": 10,
   "id": "f111d9aa-6290-4a93-bb42-5aa2ed41c2ed",
   "metadata": {
    "slideshow": {
     "slide_type": "slide"
    },
    "tags": []
   },
   "outputs": [
    {
     "name": "stdout",
     "output_type": "stream",
     "text": [
      "k = 3.862795484327411\n",
      "θ = 1.6841872053808935\n"
     ]
    }
   ],
   "source": [
    "k = series.mean()**2/series.std()**2; print(\"k =\", k)\n",
    "theta = series.std()**2/series.mean(); print(\"θ =\", theta)\n",
    "\n",
    "gamma = stats.gamma(a=k, scale=theta)"
   ]
  },
  {
   "cell_type": "code",
   "execution_count": 11,
   "id": "4d2e2153-9706-4421-b05e-b5d454fccaf5",
   "metadata": {
    "slideshow": {
     "slide_type": "slide"
    },
    "tags": []
   },
   "outputs": [
    {
     "data": {
      "image/png": "[encoded data removed]",
      "text/plain": [
       "<Figure size 640x480 with 1 Axes>"
      ]
     },
     "metadata": {},
     "output_type": "display_data"
    }
   ],
   "source": [
    "plt.hist(series, bins=20, density=True, label=\"Daten\")\n",
    "plt.plot(x, norm.pdf(x), label=\"Normalverteilung\")\n",
    "plt.plot(x, gamma.pdf(x), label=\"Gamma-Verteilung\")\n",
    "plt.text(10, 0.3, rf\"$\\alpha = {gamma.a}$\\n$\\beta = {gamma.b}$\")\n",
    "plt.legend(); plt.show()"
   ]
  },
  {
   "cell_type": "code",
   "execution_count": 12,
   "id": "79d0946e-b5ae-4dc4-a1bc-39fd0cdef220",
   "metadata": {},
   "outputs": [
    {
     "data": {
      "image/png": "[encoded data removed]",
      "text/plain": [
       "<Figure size 640x480 with 1 Axes>"
      ]
     },
     "metadata": {},
     "output_type": "display_data"
    }
   ],
   "source": [
    "plt.hist(series, bins=20, cumulative=True, density=True, label=\"Daten\")\n",
    "plt.plot(x, norm.cdf(x), label=\"Normalverteilung\")\n",
    "plt.plot(x, gamma.cdf(x), label=\"Gamma-Verteilung\")\n",
    "plt.legend(); plt.show()"
   ]
  },
  {
   "cell_type": "markdown",
   "id": "268008d6-b0bc-42a9-ad14-f5a553a46e8d",
   "metadata": {
    "slideshow": {
     "slide_type": "slide"
    },
    "tags": []
   },
   "source": [
    "- Auffällig: keine Datenpunkte unterhalb von ca. 3.74 s\n",
    "- Zeit benötigt zum Zustellen des Walzspaltes\n",
    "- Berücksichtigung solcher Auffälligkeiten kann Modell der Verteilung stark verbessern.\n",
    "\n",
    "$\\rightarrow$ Prozesskentniss zur Interpretation der Daten notwendig!"
   ]
  },
  {
   "cell_type": "code",
   "execution_count": 13,
   "id": "91313201-3ede-4160-a3f0-98c67d8e634b",
   "metadata": {
    "slideshow": {
     "slide_type": "slide"
    },
    "tags": []
   },
   "outputs": [
    {
     "name": "stdout",
     "output_type": "stream",
     "text": [
      "k2 = 0.6945720322485311 \tk = 3.862795484327411\n",
      "θ2 = 3.9717561370513295 \tθ = 1.6841872053808935\n"
     ]
    }
   ],
   "source": [
    "series2 = series - series.min()\n",
    "\n",
    "k2 = series2.mean()**2/series2.std()**2; print(\"k2 =\", k2, \"\\tk =\", k)\n",
    "theta2 = series2.std()**2/series2.mean(); print(\"θ2 =\", theta2, \"\\tθ =\", theta)\n",
    "\n",
    "gamma2 = stats.gamma(a=k2, scale=theta2)"
   ]
  },
  {
   "cell_type": "code",
   "execution_count": 14,
   "id": "ee72465e-db89-4244-a11d-fd32debf6865",
   "metadata": {
    "slideshow": {
     "slide_type": "slide"
    },
    "tags": []
   },
   "outputs": [
    {
     "data": {
      "image/png": "[encoded data removed]",
      "text/plain": [
       "<Figure size 640x480 with 1 Axes>"
      ]
     },
     "metadata": {},
     "output_type": "display_data"
    }
   ],
   "source": [
    "x2 = np.linspace(0, series2.max(), 50)\n",
    "plt.hist(series2, bins=20, density=True, label=\"Daten\")\n",
    "plt.plot(x2, gamma2.pdf(x2), label=\"Gamma-Verteilung\")\n",
    "plt.legend(); plt.show()"
   ]
  },
  {
   "cell_type": "code",
   "execution_count": 15,
   "id": "445188c5-acda-459e-83b1-93dcb04ed57b",
   "metadata": {},
   "outputs": [
    {
     "data": {
      "image/png": "[encoded data removed]",
      "text/plain": [
       "<Figure size 640x480 with 1 Axes>"
      ]
     },
     "metadata": {},
     "output_type": "display_data"
    }
   ],
   "source": [
    "plt.hist(series2, bins=20, cumulative=True, density=True, label=\"Daten\")\n",
    "plt.plot(x2, gamma2.cdf(x2), label=\"Gamma-Verteilung\")\n",
    "plt.legend(); plt.show()"
   ]
  },
  {
   "cell_type": "markdown",
   "id": "a2ae4db4-0c42-4adb-8ff4-c8b877a92f13",
   "metadata": {
    "slideshow": {
     "slide_type": "slide"
    },
    "tags": []
   },
   "source": [
    "## Regression\n",
    "\n"
   ]
  },
  {
   "cell_type": "code",
   "execution_count": 16,
   "id": "dfc5c9c1-5ca6-40de-b634-7b67cf490978",
   "metadata": {},
   "outputs": [],
   "source": [
    "fk_data = pd.read_csv(\"fließkurve_bst.csv\")"
   ]
  },
  {
   "cell_type": "code",
   "execution_count": 17,
   "id": "482f4273-df6d-412e-b318-ebd902c72f04",
   "metadata": {},
   "outputs": [
    {
     "data": {
      "text/html": [
       "<div>\n",
       "<style scoped>\n",
       "    .dataframe tbody tr th:only-of-type {\n",
       "        vertical-align: middle;\n",
       "    }\n",
       "\n",
       "    .dataframe tbody tr th {\n",
       "        vertical-align: top;\n",
       "    }\n",
       "\n",
       "    .dataframe thead th {\n",
       "        text-align: right;\n",
       "    }\n",
       "</style>\n",
       "<table border=\"1\" class=\"dataframe\">\n",
       "  <thead>\n",
       "    <tr style=\"text-align: right;\">\n",
       "      <th></th>\n",
       "      <th>Umformgrad N</th>\n",
       "      <th>Fließspannung MW : BST_800_01a.txt 800 [C]; 0.10[-]</th>\n",
       "      <th>Umformgrad N.1</th>\n",
       "      <th>Fließspannung MW : BST_800_01b.txt 800 [C]; 0.10[-]</th>\n",
       "      <th>Umformgrad N.2</th>\n",
       "      <th>Fließspannung MW : BST_800_1a.txt 800 [C]; 1.00[-]</th>\n",
       "      <th>Umformgrad N.3</th>\n",
       "      <th>Fließspannung MW : BST_800_1a_00.txt 800 [C]; 1.00[-]</th>\n",
       "      <th>Umformgrad N.4</th>\n",
       "      <th>Fließspannung MW : BST_800_10a.txt 800 [C]; 10.00[-]</th>\n",
       "      <th>...</th>\n",
       "      <th>Umformgrad N.85</th>\n",
       "      <th>Temp : BST_1200_1b.txt 1200 [C]; 1.00[-]</th>\n",
       "      <th>Umformgrad N.86</th>\n",
       "      <th>Temp : BST_1200_10b.txt 1200 [C]; 10.00[-]</th>\n",
       "      <th>Umformgrad N.87</th>\n",
       "      <th>Temp : BST_1200_10a.txt 1200 [C]; 10.00[-]</th>\n",
       "      <th>Umformgrad N.88</th>\n",
       "      <th>Temp : BST_1100_01a.txt 1100 [C]; 0.10[-]</th>\n",
       "      <th>Umformgrad N.89</th>\n",
       "      <th>Temp : BST_1100_01b.txt 1100 [C]; 0.10[-]</th>\n",
       "    </tr>\n",
       "  </thead>\n",
       "  <tbody>\n",
       "    <tr>\n",
       "      <th>0</th>\n",
       "      <td>0.000000</td>\n",
       "      <td>50.501127</td>\n",
       "      <td>0.000000</td>\n",
       "      <td>50.162090</td>\n",
       "      <td>0.000000</td>\n",
       "      <td>59.690773</td>\n",
       "      <td>0.000000</td>\n",
       "      <td>60.935562</td>\n",
       "      <td>0.000000</td>\n",
       "      <td>87.485148</td>\n",
       "      <td>...</td>\n",
       "      <td>0.000000</td>\n",
       "      <td>1200.0</td>\n",
       "      <td>0.000000</td>\n",
       "      <td>1200.0</td>\n",
       "      <td>0.000000</td>\n",
       "      <td>1200.0</td>\n",
       "      <td>0.000000</td>\n",
       "      <td>1100.0</td>\n",
       "      <td>0.000000</td>\n",
       "      <td>1100.0</td>\n",
       "    </tr>\n",
       "    <tr>\n",
       "      <th>1</th>\n",
       "      <td>0.000852</td>\n",
       "      <td>52.675668</td>\n",
       "      <td>0.000761</td>\n",
       "      <td>52.282859</td>\n",
       "      <td>0.000759</td>\n",
       "      <td>62.515377</td>\n",
       "      <td>0.000644</td>\n",
       "      <td>63.791803</td>\n",
       "      <td>0.001074</td>\n",
       "      <td>90.791785</td>\n",
       "      <td>...</td>\n",
       "      <td>0.000136</td>\n",
       "      <td>1200.0</td>\n",
       "      <td>0.000878</td>\n",
       "      <td>1200.0</td>\n",
       "      <td>0.000715</td>\n",
       "      <td>1200.0</td>\n",
       "      <td>0.000665</td>\n",
       "      <td>1100.0</td>\n",
       "      <td>0.001264</td>\n",
       "      <td>1100.0</td>\n",
       "    </tr>\n",
       "    <tr>\n",
       "      <th>2</th>\n",
       "      <td>0.001716</td>\n",
       "      <td>54.850114</td>\n",
       "      <td>0.001522</td>\n",
       "      <td>54.403668</td>\n",
       "      <td>0.001524</td>\n",
       "      <td>65.339961</td>\n",
       "      <td>0.001308</td>\n",
       "      <td>66.647785</td>\n",
       "      <td>0.002255</td>\n",
       "      <td>94.095824</td>\n",
       "      <td>...</td>\n",
       "      <td>0.000506</td>\n",
       "      <td>1200.0</td>\n",
       "      <td>0.001781</td>\n",
       "      <td>1200.0</td>\n",
       "      <td>0.001434</td>\n",
       "      <td>1200.0</td>\n",
       "      <td>0.001330</td>\n",
       "      <td>1100.0</td>\n",
       "      <td>0.002564</td>\n",
       "      <td>1100.0</td>\n",
       "    </tr>\n",
       "    <tr>\n",
       "      <th>3</th>\n",
       "      <td>0.002588</td>\n",
       "      <td>57.024493</td>\n",
       "      <td>0.002397</td>\n",
       "      <td>56.523232</td>\n",
       "      <td>0.002534</td>\n",
       "      <td>68.160757</td>\n",
       "      <td>0.002392</td>\n",
       "      <td>69.497209</td>\n",
       "      <td>0.004075</td>\n",
       "      <td>97.383491</td>\n",
       "      <td>...</td>\n",
       "      <td>0.000951</td>\n",
       "      <td>1200.0</td>\n",
       "      <td>0.002684</td>\n",
       "      <td>1200.0</td>\n",
       "      <td>0.002153</td>\n",
       "      <td>1200.0</td>\n",
       "      <td>0.002064</td>\n",
       "      <td>1100.0</td>\n",
       "      <td>0.003879</td>\n",
       "      <td>1100.0</td>\n",
       "    </tr>\n",
       "    <tr>\n",
       "      <th>4</th>\n",
       "      <td>0.003571</td>\n",
       "      <td>59.197453</td>\n",
       "      <td>0.003273</td>\n",
       "      <td>58.642824</td>\n",
       "      <td>0.003544</td>\n",
       "      <td>70.981668</td>\n",
       "      <td>0.003476</td>\n",
       "      <td>72.346763</td>\n",
       "      <td>0.005894</td>\n",
       "      <td>100.671540</td>\n",
       "      <td>...</td>\n",
       "      <td>0.001396</td>\n",
       "      <td>1200.0</td>\n",
       "      <td>0.003601</td>\n",
       "      <td>1200.0</td>\n",
       "      <td>0.002838</td>\n",
       "      <td>1200.0</td>\n",
       "      <td>0.002797</td>\n",
       "      <td>1100.0</td>\n",
       "      <td>0.005208</td>\n",
       "      <td>1100.0</td>\n",
       "    </tr>\n",
       "    <tr>\n",
       "      <th>...</th>\n",
       "      <td>...</td>\n",
       "      <td>...</td>\n",
       "      <td>...</td>\n",
       "      <td>...</td>\n",
       "      <td>...</td>\n",
       "      <td>...</td>\n",
       "      <td>...</td>\n",
       "      <td>...</td>\n",
       "      <td>...</td>\n",
       "      <td>...</td>\n",
       "      <td>...</td>\n",
       "      <td>...</td>\n",
       "      <td>...</td>\n",
       "      <td>...</td>\n",
       "      <td>...</td>\n",
       "      <td>...</td>\n",
       "      <td>...</td>\n",
       "      <td>...</td>\n",
       "      <td>...</td>\n",
       "      <td>...</td>\n",
       "      <td>...</td>\n",
       "    </tr>\n",
       "    <tr>\n",
       "      <th>149</th>\n",
       "      <td>NaN</td>\n",
       "      <td>NaN</td>\n",
       "      <td>NaN</td>\n",
       "      <td>NaN</td>\n",
       "      <td>NaN</td>\n",
       "      <td>NaN</td>\n",
       "      <td>NaN</td>\n",
       "      <td>NaN</td>\n",
       "      <td>NaN</td>\n",
       "      <td>NaN</td>\n",
       "      <td>...</td>\n",
       "      <td>NaN</td>\n",
       "      <td>NaN</td>\n",
       "      <td>NaN</td>\n",
       "      <td>NaN</td>\n",
       "      <td>NaN</td>\n",
       "      <td>NaN</td>\n",
       "      <td>NaN</td>\n",
       "      <td>NaN</td>\n",
       "      <td>NaN</td>\n",
       "      <td>NaN</td>\n",
       "    </tr>\n",
       "    <tr>\n",
       "      <th>150</th>\n",
       "      <td>NaN</td>\n",
       "      <td>NaN</td>\n",
       "      <td>NaN</td>\n",
       "      <td>NaN</td>\n",
       "      <td>NaN</td>\n",
       "      <td>NaN</td>\n",
       "      <td>NaN</td>\n",
       "      <td>NaN</td>\n",
       "      <td>NaN</td>\n",
       "      <td>NaN</td>\n",
       "      <td>...</td>\n",
       "      <td>NaN</td>\n",
       "      <td>NaN</td>\n",
       "      <td>NaN</td>\n",
       "      <td>NaN</td>\n",
       "      <td>NaN</td>\n",
       "      <td>NaN</td>\n",
       "      <td>NaN</td>\n",
       "      <td>NaN</td>\n",
       "      <td>NaN</td>\n",
       "      <td>NaN</td>\n",
       "    </tr>\n",
       "    <tr>\n",
       "      <th>151</th>\n",
       "      <td>NaN</td>\n",
       "      <td>NaN</td>\n",
       "      <td>NaN</td>\n",
       "      <td>NaN</td>\n",
       "      <td>NaN</td>\n",
       "      <td>NaN</td>\n",
       "      <td>NaN</td>\n",
       "      <td>NaN</td>\n",
       "      <td>NaN</td>\n",
       "      <td>NaN</td>\n",
       "      <td>...</td>\n",
       "      <td>NaN</td>\n",
       "      <td>NaN</td>\n",
       "      <td>NaN</td>\n",
       "      <td>NaN</td>\n",
       "      <td>NaN</td>\n",
       "      <td>NaN</td>\n",
       "      <td>NaN</td>\n",
       "      <td>NaN</td>\n",
       "      <td>NaN</td>\n",
       "      <td>NaN</td>\n",
       "    </tr>\n",
       "    <tr>\n",
       "      <th>152</th>\n",
       "      <td>NaN</td>\n",
       "      <td>NaN</td>\n",
       "      <td>NaN</td>\n",
       "      <td>NaN</td>\n",
       "      <td>NaN</td>\n",
       "      <td>NaN</td>\n",
       "      <td>NaN</td>\n",
       "      <td>NaN</td>\n",
       "      <td>NaN</td>\n",
       "      <td>NaN</td>\n",
       "      <td>...</td>\n",
       "      <td>NaN</td>\n",
       "      <td>NaN</td>\n",
       "      <td>NaN</td>\n",
       "      <td>NaN</td>\n",
       "      <td>NaN</td>\n",
       "      <td>NaN</td>\n",
       "      <td>NaN</td>\n",
       "      <td>NaN</td>\n",
       "      <td>NaN</td>\n",
       "      <td>NaN</td>\n",
       "    </tr>\n",
       "    <tr>\n",
       "      <th>153</th>\n",
       "      <td>NaN</td>\n",
       "      <td>NaN</td>\n",
       "      <td>NaN</td>\n",
       "      <td>NaN</td>\n",
       "      <td>NaN</td>\n",
       "      <td>NaN</td>\n",
       "      <td>NaN</td>\n",
       "      <td>NaN</td>\n",
       "      <td>NaN</td>\n",
       "      <td>NaN</td>\n",
       "      <td>...</td>\n",
       "      <td>NaN</td>\n",
       "      <td>NaN</td>\n",
       "      <td>NaN</td>\n",
       "      <td>NaN</td>\n",
       "      <td>NaN</td>\n",
       "      <td>NaN</td>\n",
       "      <td>NaN</td>\n",
       "      <td>NaN</td>\n",
       "      <td>NaN</td>\n",
       "      <td>NaN</td>\n",
       "    </tr>\n",
       "  </tbody>\n",
       "</table>\n",
       "<p>154 rows × 180 columns</p>\n",
       "</div>"
      ],
      "text/plain": [
       "     Umformgrad N  Fließspannung MW : BST_800_01a.txt 800 [C]; 0.10[-]  \\\n",
       "0        0.000000                                          50.501127     \n",
       "1        0.000852                                          52.675668     \n",
       "2        0.001716                                          54.850114     \n",
       "3        0.002588                                          57.024493     \n",
       "4        0.003571                                          59.197453     \n",
       "..            ...                                                ...     \n",
       "149           NaN                                                NaN     \n",
       "150           NaN                                                NaN     \n",
       "151           NaN                                                NaN     \n",
       "152           NaN                                                NaN     \n",
       "153           NaN                                                NaN     \n",
       "\n",
       "     Umformgrad N.1  Fließspannung MW : BST_800_01b.txt 800 [C]; 0.10[-]  \\\n",
       "0          0.000000                                          50.162090     \n",
       "1          0.000761                                          52.282859     \n",
       "2          0.001522                                          54.403668     \n",
       "3          0.002397                                          56.523232     \n",
       "4          0.003273                                          58.642824     \n",
       "..              ...                                                ...     \n",
       "149             NaN                                                NaN     \n",
       "150             NaN                                                NaN     \n",
       "151             NaN                                                NaN     \n",
       "152             NaN                                                NaN     \n",
       "153             NaN                                                NaN     \n",
       "\n",
       "     Umformgrad N.2  Fließspannung MW : BST_800_1a.txt 800 [C]; 1.00[-]  \\\n",
       "0          0.000000                                          59.690773    \n",
       "1          0.000759                                          62.515377    \n",
       "2          0.001524                                          65.339961    \n",
       "3          0.002534                                          68.160757    \n",
       "4          0.003544                                          70.981668    \n",
       "..              ...                                                ...    \n",
       "149             NaN                                                NaN    \n",
       "150             NaN                                                NaN    \n",
       "151             NaN                                                NaN    \n",
       "152             NaN                                                NaN    \n",
       "153             NaN                                                NaN    \n",
       "\n",
       "     Umformgrad N.3  Fließspannung MW : BST_800_1a_00.txt 800 [C]; 1.00[-]  \\\n",
       "0          0.000000                                          60.935562       \n",
       "1          0.000644                                          63.791803       \n",
       "2          0.001308                                          66.647785       \n",
       "3          0.002392                                          69.497209       \n",
       "4          0.003476                                          72.346763       \n",
       "..              ...                                                ...       \n",
       "149             NaN                                                NaN       \n",
       "150             NaN                                                NaN       \n",
       "151             NaN                                                NaN       \n",
       "152             NaN                                                NaN       \n",
       "153             NaN                                                NaN       \n",
       "\n",
       "     Umformgrad N.4  Fließspannung MW : BST_800_10a.txt 800 [C]; 10.00[-]  \\\n",
       "0          0.000000                                          87.485148      \n",
       "1          0.001074                                          90.791785      \n",
       "2          0.002255                                          94.095824      \n",
       "3          0.004075                                          97.383491      \n",
       "4          0.005894                                         100.671540      \n",
       "..              ...                                                ...      \n",
       "149             NaN                                                NaN      \n",
       "150             NaN                                                NaN      \n",
       "151             NaN                                                NaN      \n",
       "152             NaN                                                NaN      \n",
       "153             NaN                                                NaN      \n",
       "\n",
       "     ...  Umformgrad N.85  Temp : BST_1200_1b.txt 1200 [C]; 1.00[-]  \\\n",
       "0    ...         0.000000                                    1200.0   \n",
       "1    ...         0.000136                                    1200.0   \n",
       "2    ...         0.000506                                    1200.0   \n",
       "3    ...         0.000951                                    1200.0   \n",
       "4    ...         0.001396                                    1200.0   \n",
       "..   ...              ...                                       ...   \n",
       "149  ...              NaN                                       NaN   \n",
       "150  ...              NaN                                       NaN   \n",
       "151  ...              NaN                                       NaN   \n",
       "152  ...              NaN                                       NaN   \n",
       "153  ...              NaN                                       NaN   \n",
       "\n",
       "     Umformgrad N.86  Temp : BST_1200_10b.txt 1200 [C]; 10.00[-]  \\\n",
       "0           0.000000                                      1200.0   \n",
       "1           0.000878                                      1200.0   \n",
       "2           0.001781                                      1200.0   \n",
       "3           0.002684                                      1200.0   \n",
       "4           0.003601                                      1200.0   \n",
       "..               ...                                         ...   \n",
       "149              NaN                                         NaN   \n",
       "150              NaN                                         NaN   \n",
       "151              NaN                                         NaN   \n",
       "152              NaN                                         NaN   \n",
       "153              NaN                                         NaN   \n",
       "\n",
       "     Umformgrad N.87  Temp : BST_1200_10a.txt 1200 [C]; 10.00[-]  \\\n",
       "0           0.000000                                      1200.0   \n",
       "1           0.000715                                      1200.0   \n",
       "2           0.001434                                      1200.0   \n",
       "3           0.002153                                      1200.0   \n",
       "4           0.002838                                      1200.0   \n",
       "..               ...                                         ...   \n",
       "149              NaN                                         NaN   \n",
       "150              NaN                                         NaN   \n",
       "151              NaN                                         NaN   \n",
       "152              NaN                                         NaN   \n",
       "153              NaN                                         NaN   \n",
       "\n",
       "     Umformgrad N.88  Temp : BST_1100_01a.txt 1100 [C]; 0.10[-]  \\\n",
       "0           0.000000                                     1100.0   \n",
       "1           0.000665                                     1100.0   \n",
       "2           0.001330                                     1100.0   \n",
       "3           0.002064                                     1100.0   \n",
       "4           0.002797                                     1100.0   \n",
       "..               ...                                        ...   \n",
       "149              NaN                                        NaN   \n",
       "150              NaN                                        NaN   \n",
       "151              NaN                                        NaN   \n",
       "152              NaN                                        NaN   \n",
       "153              NaN                                        NaN   \n",
       "\n",
       "     Umformgrad N.89  Temp : BST_1100_01b.txt 1100 [C]; 0.10[-]  \n",
       "0           0.000000                                     1100.0  \n",
       "1           0.001264                                     1100.0  \n",
       "2           0.002564                                     1100.0  \n",
       "3           0.003879                                     1100.0  \n",
       "4           0.005208                                     1100.0  \n",
       "..               ...                                        ...  \n",
       "149              NaN                                        NaN  \n",
       "150              NaN                                        NaN  \n",
       "151              NaN                                        NaN  \n",
       "152              NaN                                        NaN  \n",
       "153              NaN                                        NaN  \n",
       "\n",
       "[154 rows x 180 columns]"
      ]
     },
     "execution_count": 17,
     "metadata": {},
     "output_type": "execute_result"
    }
   ],
   "source": [
    "fk_data"
   ]
  },
  {
   "cell_type": "code",
   "execution_count": null,
   "id": "89bfc665-31fc-4e3a-84e0-8efa71add419",
   "metadata": {},
   "outputs": [],
   "source": []
  }
 ],
 "metadata": {
  "kernelspec": {
   "display_name": "Python 3 (ipykernel)",
   "language": "python",
   "name": "python3"
  },
  "language_info": {
   "codemirror_mode": {
    "name": "ipython",
    "version": 3
   },
   "file_extension": ".py",
   "mimetype": "text/x-python",
   "name": "python",
   "nbconvert_exporter": "python",
   "pygments_lexer": "ipython3",
   "version": "3.10.7"
  }
 },
 "nbformat": 4,
 "nbformat_minor": 5
}
